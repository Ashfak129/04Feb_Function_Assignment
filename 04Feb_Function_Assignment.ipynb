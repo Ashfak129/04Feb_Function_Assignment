{
 "cells": [
  {
   "cell_type": "code",
   "execution_count": null,
   "id": "f24a9ef7-7c23-4fea-a5c9-ad8227f3e0e5",
   "metadata": {},
   "outputs": [],
   "source": [
    "Q1. Create a python program to sort the given list of tuples based on integer value using a\n",
    "lambda function.\n",
    "[('Sachin Tendulkar', 34357), ('Ricky Ponting', 27483), ('Jack Kallis', 25534), ('Virat Kohli', 24936)]"
   ]
  },
  {
   "cell_type": "code",
   "execution_count": null,
   "id": "864a24c0-d395-4a81-ab45-4d6fc1afd2d8",
   "metadata": {},
   "outputs": [],
   "source": [
    "Ans:-"
   ]
  },
  {
   "cell_type": "code",
   "execution_count": 2,
   "id": "5f8eee78-70bf-434f-954e-ca8f06e4df71",
   "metadata": {},
   "outputs": [
    {
     "name": "stdout",
     "output_type": "stream",
     "text": [
      "[('Virat Kohli', 24936), ('Jack Kalis', 25534), ('Ricky Ponting', 27483), ('Sachin Tendulkar', 34357)]\n"
     ]
    }
   ],
   "source": [
    "my_list = [('Sachin Tendulkar',34357), ('Ricky Ponting', 27483), ('Jack Kalis', 25534), ('Virat Kohli', 24936)]\n",
    "#sort the list of tuples based on the integer value \n",
    "sorted_list = sorted(my_list, key=lambda x: x[1])\n",
    "print(sorted_list)"
   ]
  },
  {
   "cell_type": "code",
   "execution_count": null,
   "id": "c1d85a03-5fb2-4268-9141-a09f8a045849",
   "metadata": {},
   "outputs": [],
   "source": []
  },
  {
   "cell_type": "code",
   "execution_count": null,
   "id": "d395c524-a615-4763-9296-1a28fb43c476",
   "metadata": {},
   "outputs": [],
   "source": []
  },
  {
   "cell_type": "code",
   "execution_count": null,
   "id": "91d9d733-85af-41c6-9b2a-8eeb64e2f33c",
   "metadata": {},
   "outputs": [],
   "source": [
    "Q2. Write a Python Program to find the squares of all the numbers in the given list of integers using\n",
    "lambda and map functions.\n",
    "[1, 2, 3, 4, 5, 6, 7, 8, 9, 10]"
   ]
  },
  {
   "cell_type": "code",
   "execution_count": null,
   "id": "a13c589b-a82c-411a-8ff7-5632c4aa4f36",
   "metadata": {},
   "outputs": [],
   "source": [
    "Ans:-"
   ]
  },
  {
   "cell_type": "code",
   "execution_count": 5,
   "id": "068a3023-cfbe-4a02-acc0-f2f73b6c75a4",
   "metadata": {},
   "outputs": [
    {
     "name": "stdout",
     "output_type": "stream",
     "text": [
      "[1, 4, 9, 16, 25, 36, 49, 64, 81, 100]\n"
     ]
    }
   ],
   "source": [
    "numbers = [1, 2, 3, 4, 5, 6, 7, 8, 9, 10]\n",
    "#squares of all numbers using lambda and map function\n",
    "squared_list = list(map(lambda x: x**2, numbers))\n",
    "print(squared_list)"
   ]
  },
  {
   "cell_type": "code",
   "execution_count": null,
   "id": "a354dd50-a397-4520-9693-d6c19c2653ad",
   "metadata": {},
   "outputs": [],
   "source": []
  },
  {
   "cell_type": "code",
   "execution_count": null,
   "id": "d479aff2-584b-4c7b-b5f9-47eaed2cdc7d",
   "metadata": {},
   "outputs": [],
   "source": []
  },
  {
   "cell_type": "code",
   "execution_count": null,
   "id": "995a7b5f-8d5b-4a60-b2c4-3ee6ec67bd24",
   "metadata": {},
   "outputs": [],
   "source": [
    "Q3. Write a python program to convert the given list of integers into a tuple of strings. Use map and\n",
    "lambda functions\n",
    "Given String: [1, 2, 3, 4, 5, 6, 7, 8, 9, 10]\n",
    "Expected output: ('1', '2', '3', '4', '5', '6', '7', '8', '9', '10')"
   ]
  },
  {
   "cell_type": "code",
   "execution_count": null,
   "id": "3d9a2232-cef1-432f-bb4f-218630c622c8",
   "metadata": {},
   "outputs": [],
   "source": [
    "Ans:-"
   ]
  },
  {
   "cell_type": "code",
   "execution_count": 7,
   "id": "4b99d74d-e0e7-4b42-9996-96a7473f6f79",
   "metadata": {},
   "outputs": [
    {
     "name": "stdout",
     "output_type": "stream",
     "text": [
      "('1', '2', '3', '4', '5', '6', '7', '8', '9', '10')\n"
     ]
    }
   ],
   "source": [
    "given_numbers = [1, 2, 3, 4, 5, 6, 7, 8, 9, 10]\n",
    "#convert above list of integers into a tuple of strings\n",
    "string_tuple = tuple(map(lambda x: str(x), given_numbers))\n",
    "print(string_tuple)\n"
   ]
  },
  {
   "cell_type": "code",
   "execution_count": null,
   "id": "c19a7d17-8bf1-470b-bc88-c0a538dec6e6",
   "metadata": {},
   "outputs": [],
   "source": []
  },
  {
   "cell_type": "code",
   "execution_count": null,
   "id": "534ecb59-881e-4f31-8eb4-dd4a5b5c0c9b",
   "metadata": {},
   "outputs": [],
   "source": []
  },
  {
   "cell_type": "code",
   "execution_count": null,
   "id": "6a437e3b-994a-4e03-8c03-623bbe4c1f0f",
   "metadata": {},
   "outputs": [],
   "source": [
    "Q4. Write a python program using reduce function to compute the product of a list containing numbers\n",
    "from 1 to 25."
   ]
  },
  {
   "cell_type": "code",
   "execution_count": null,
   "id": "c0dc66b6-61b3-4b63-85da-5d285a78c940",
   "metadata": {},
   "outputs": [],
   "source": [
    "Ans:-"
   ]
  },
  {
   "cell_type": "code",
   "execution_count": 9,
   "id": "c5021089-64b0-4892-8555-92e88216bde0",
   "metadata": {},
   "outputs": [
    {
     "name": "stdout",
     "output_type": "stream",
     "text": [
      "15511210043330985984000000\n"
     ]
    }
   ],
   "source": [
    "from functools import reduce\n",
    "numbers = list(range(1, 26))\n",
    "#product of the numbers list\n",
    "product = reduce(lambda x, y: x*y, numbers)\n",
    "print(product)"
   ]
  },
  {
   "cell_type": "code",
   "execution_count": null,
   "id": "5abbdf37-a2d5-4d1d-8a13-abe5a88f557d",
   "metadata": {},
   "outputs": [],
   "source": []
  },
  {
   "cell_type": "code",
   "execution_count": null,
   "id": "986b4f76-7651-4062-a2ff-3d1d58354fc0",
   "metadata": {},
   "outputs": [],
   "source": []
  },
  {
   "cell_type": "code",
   "execution_count": null,
   "id": "b312d8eb-523c-43ba-8f78-caaea2fadde7",
   "metadata": {},
   "outputs": [],
   "source": [
    "Q5. Write a python program to filter the numbers in a given list that are divisible by 2 and 3 using the\n",
    "filter function.\n",
    "[2, 3, 6, 9, 27, 60, 90, 120, 55, 46]"
   ]
  },
  {
   "cell_type": "code",
   "execution_count": null,
   "id": "2be65f51-47a3-40e1-bbf4-1db5ed75b012",
   "metadata": {},
   "outputs": [],
   "source": [
    "Ans:-"
   ]
  },
  {
   "cell_type": "code",
   "execution_count": 13,
   "id": "ff196c2f-c944-444e-905d-415ced1e924a",
   "metadata": {},
   "outputs": [
    {
     "name": "stdout",
     "output_type": "stream",
     "text": [
      "[6, 60, 90, 120]\n"
     ]
    }
   ],
   "source": [
    "lst = [2, 3, 6, 9, 27, 60, 90, 120, 55, 46]\n",
    "#filter the numbers which are divisible by 2 and 3\n",
    "result = list(filter(lambda x: (x % 2 == 0) and (x % 3 == 0), lst))\n",
    "print(result)"
   ]
  },
  {
   "cell_type": "code",
   "execution_count": null,
   "id": "34ca822a-6dbb-4a0e-8072-d5a58467051d",
   "metadata": {},
   "outputs": [],
   "source": []
  },
  {
   "cell_type": "code",
   "execution_count": null,
   "id": "ba22fd4e-891d-43e8-abb5-1b8112f02b31",
   "metadata": {},
   "outputs": [],
   "source": []
  },
  {
   "cell_type": "code",
   "execution_count": null,
   "id": "072c56b0-7a20-45f0-8c37-ea83c9724d72",
   "metadata": {},
   "outputs": [],
   "source": [
    "Q6. Write a python program to find palindromes in the given list of strings using lambda and filter\n",
    "function.\n",
    "['python', 'php', 'aba', 'radar', 'level']"
   ]
  },
  {
   "cell_type": "code",
   "execution_count": null,
   "id": "634ac042-7513-4f9c-88c0-e7b57806d633",
   "metadata": {},
   "outputs": [],
   "source": [
    "Ans:-"
   ]
  },
  {
   "cell_type": "code",
   "execution_count": null,
   "id": "3b7a14ef-9f43-477f-b3d4-f91b806ca272",
   "metadata": {},
   "outputs": [],
   "source": [
    "lst2 = ['python', 'php', 'aba', 'radar', 'level']\n",
    "\n",
    "result = list(filter(lambda x: x == x[::-1], lst2))\n",
    "print(result)"
   ]
  }
 ],
 "metadata": {
  "kernelspec": {
   "display_name": "Python 3 (ipykernel)",
   "language": "python",
   "name": "python3"
  },
  "language_info": {
   "codemirror_mode": {
    "name": "ipython",
    "version": 3
   },
   "file_extension": ".py",
   "mimetype": "text/x-python",
   "name": "python",
   "nbconvert_exporter": "python",
   "pygments_lexer": "ipython3",
   "version": "3.10.8"
  }
 },
 "nbformat": 4,
 "nbformat_minor": 5
}
